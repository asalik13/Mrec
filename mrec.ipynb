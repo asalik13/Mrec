{
 "cells": [
  {
   "cell_type": "code",
   "execution_count": 1,
   "metadata": {},
   "outputs": [],
   "source": [
    "# used for manipulating directory paths\n",
    "import os\n",
    "\n",
    "# Scientific and vector computation for python\n",
    "import numpy as np\n",
    "\n",
    "# Plotting library\n",
    "from matplotlib import pyplot\n",
    "import matplotlib as mpl\n",
    "\n",
    "# Optimization module in scipy\n",
    "from scipy import optimize\n",
    "\n",
    "# will be used to load MATLAB mat datafile format\n",
    "from scipy.io import loadmat,savemat\n",
    "\n",
    "# library written for this exercise providing additional functions for assignment submission, and others\n",
    "import utils\n",
    "\n",
    "# tells matplotlib to embed plots within the notebook\n",
    "%matplotlib inline"
   ]
  },
  {
   "cell_type": "code",
   "execution_count": 2,
   "metadata": {},
   "outputs": [],
   "source": [
    "def cofiCostFunc(params, Y, R, num_users, num_movies,\n",
    "                      num_features, lambda_=0.0):\n",
    "    \n",
    "    # Unfold the U and W matrices from params\n",
    "    X = params[:num_movies*num_features].reshape(num_movies, num_features)\n",
    "    Theta = params[num_movies*num_features:].reshape(num_users, num_features)\n",
    "    J = 0\n",
    "    X_grad = np.zeros(X.shape)\n",
    "    Theta_grad = np.zeros(Theta.shape)\n",
    "    J = np.sum(((X@Theta.T-Y)**2)*R)/2\n",
    "    cost_reg = (lambda_/2)*(np.sum(Theta**2) + np.sum(X**2))\n",
    "    J = J+cost_reg\n",
    "    X_grad = ((X@Theta.T-Y)*R)@Theta + lambda_*X\n",
    "    Theta_grad = ((X@Theta.T-Y)*R).T@X + lambda_*Theta\n",
    "    \n",
    "    grad = np.concatenate([X_grad.ravel(), Theta_grad.ravel()])\n",
    "    return J, grad"
   ]
  },
  {
   "cell_type": "code",
   "execution_count": 3,
   "metadata": {},
   "outputs": [],
   "source": [
    "def loadData():\n",
    "    data = loadmat(os.path.join('Data', 'ex8_movies.mat'))\n",
    "    Y, R = data['Y'], data['R']\n",
    "    print(\"Data loaded!\")\n",
    "    return Y,R"
   ]
  },
  {
   "cell_type": "code",
   "execution_count": 4,
   "metadata": {},
   "outputs": [],
   "source": [
    "def saveData(Y,R):\n",
    "    data = {}\n",
    "    data['Y'] = Y\n",
    "    data['R'] = R\n",
    "    savemat(os.path.join('Data', 'ex8_movies.mat'),data)\n",
    "    print(\"Data saved!\")\n",
    "    "
   ]
  },
  {
   "cell_type": "code",
   "execution_count": 5,
   "metadata": {},
   "outputs": [],
   "source": [
    "def loadParams():\n",
    "    data = loadmat(os.path.join('Data', 'ex8_movieParams.mat'))\n",
    "    print(\"Parameters loaded!\")\n",
    "    return data['X'],data['Theta'], data['num_users'], data['num_movies'], data['num_features']"
   ]
  },
  {
   "cell_type": "code",
   "execution_count": 6,
   "metadata": {},
   "outputs": [],
   "source": [
    "\n",
    "def testParams():# Test pre-trained weights (X, Theta, num_users, num_movies, num_features)\n",
    "    \n",
    "    X, Theta, num_users, num_movies, num_features = loadParams()\n",
    "    Y,R = loadData()\n",
    "    #  Reduce the data set size so that this runs faster\n",
    "    num_users = 4\n",
    "    num_movies = 5\n",
    "    num_features = 3\n",
    "\n",
    "    X = X[:num_movies, :num_features]\n",
    "    Theta = Theta[:num_users, :num_features]\n",
    "    Y = Y[:num_movies, 0:num_users]\n",
    "    R = R[:num_movies, 0:num_users]\n",
    "\n",
    "    #  Evaluate cost function\n",
    "    J, _ = cofiCostFunc(np.concatenate([X.ravel(), Theta.ravel()]),\n",
    "                        Y, R, num_users, num_movies, num_features)\n",
    "\n",
    "    print('Cost at loaded parameters:  %.2f' % J)"
   ]
  },
  {
   "cell_type": "code",
   "execution_count": 7,
   "metadata": {},
   "outputs": [
    {
     "name": "stdout",
     "output_type": "stream",
     "text": [
      "Parameters loaded!\n",
      "Data loaded!\n",
      "Cost at loaded parameters:  22.22\n"
     ]
    }
   ],
   "source": [
    "testParams()"
   ]
  },
  {
   "cell_type": "code",
   "execution_count": 8,
   "metadata": {},
   "outputs": [],
   "source": [
    "def saveParams(X, Theta, num_users, num_movies, num_features): # save paramneters to file\n",
    "    data = {}\n",
    "    data['X'] = X\n",
    "    data['Theta'] = Theta\n",
    "    data['num_users'] = num_users\n",
    "    data['num_movies'] = num_movies\n",
    "    data['num_features'] = num_features\n",
    "    savemat(os.path.join('Data', 'ex8_movieParams.mat'),data)\n",
    "    print(\"Parameters saved!\")\n"
   ]
  },
  {
   "cell_type": "code",
   "execution_count": 92,
   "metadata": {},
   "outputs": [],
   "source": [
    "def predict(new_ratings,_id):\n",
    "    Y,R = loadData()\n",
    "    Y = np.hstack([Y,new_ratings[:, None]])\n",
    "    R = np.hstack([R,(new_ratings[:, None]>0)])\n",
    "    print(\"Ratings added!\")\n",
    "    #  Normalize Ratings\n",
    "    Ynorm, Ymean = utils.normalizeRatings(Y, R)\n",
    "\n",
    "    #  Useful Values\n",
    "    num_movies, num_users = Y.shape\n",
    "    num_features = 10\n",
    "\n",
    "    # Set Initial Parameters (Theta, X)\n",
    "    X = np.random.randn(num_movies, num_features)\n",
    "    Theta = np.random.randn(num_users, num_features)\n",
    "\n",
    "    initial_parameters = np.concatenate([X.ravel(), Theta.ravel()])\n",
    "\n",
    "    # Set options for scipy.optimize.minimize\n",
    "    options = {'maxiter': 100}\n",
    "\n",
    "    # Set Regularization\n",
    "    lambda_ = 10\n",
    "    res = optimize.minimize(lambda x: cofiCostFunc(x, Ynorm, R, num_users,\n",
    "                                                   num_movies, num_features, lambda_),\n",
    "                            initial_parameters,\n",
    "                            method='TNC',\n",
    "                            jac=True,\n",
    "                            options=options)\n",
    "    theta = res.x\n",
    "\n",
    "    # Unfold the returned theta back into U and W\n",
    "    X = theta[:num_movies*num_features].reshape(num_movies, num_features)\n",
    "    Theta = theta[num_movies*num_features:].reshape(num_users, num_features)\n",
    "\n",
    "    print('Recommender system learning completed.')\n",
    "    \n",
    "    p = np.dot(X, Theta.T)\n",
    "    print(p.shape)\n",
    "    my_predictions = p[:, _id] + Ymean\n",
    "\n",
    "    movieList = utils.loadMovieList()\n",
    "\n",
    "    ix = np.argsort(my_predictions)[::-1]\n",
    "\n",
    "    print('Top recommendations for you:')\n",
    "    print('----------------------------')\n",
    "    for i in range(20):\n",
    "        j = ix[i]\n",
    "        print('Predicting rating %.1f for movie %s' % (my_predictions[j], movieList[j]))\n",
    "\n",
    "    \n"
   ]
  },
  {
   "cell_type": "code",
   "execution_count": 94,
   "metadata": {},
   "outputs": [
    {
     "name": "stdout",
     "output_type": "stream",
     "text": [
      "Data loaded!\n",
      "Ratings added!\n",
      "Recommender system learning completed.\n",
      "(1665, 944)\n",
      "Top recommendations for you:\n",
      "----------------------------\n",
      "Predicting rating 5.1 for movie Star Kid\n",
      "Predicting rating 5.1 for movie Entertaining Angels: The Dorothy Day Story\n",
      "Predicting rating 5.0 for movie They Made Me a Criminal\n",
      "Predicting rating 5.0 for movie Someone Else's America\n",
      "Predicting rating 5.0 for movie Great Day in Harlem A\n",
      "Predicting rating 4.9 for movie Santa with Muscles\n",
      "Predicting rating 4.9 for movie Saint of Fort Washington\n",
      "Predicting rating 4.9 for movie Marlene Dietrich: Shadow and Light\n",
      "Predicting rating 4.9 for movie Prefontaine\n",
      "Predicting rating 4.6 for movie Some Mother's Son\n",
      "Predicting rating 4.5 for movie Everest\n",
      "Predicting rating 4.5 for movie Letter From Death Row A\n",
      "Predicting rating 4.5 for movie Pather Panchali\n",
      "Predicting rating 4.4 for movie Kaspar Hauser\n",
      "Predicting rating 4.4 for movie Sunset Blvd.\n",
      "Predicting rating 4.4 for movie Anna\n",
      "Predicting rating 4.3 for movie Wallace & Gromit: The Best of Aardman Animation\n",
      "Predicting rating 4.3 for movie Innocents\n",
      "Predicting rating 4.3 for movie Close Shave A\n",
      "Predicting rating 4.3 for movie Third Man\n"
     ]
    }
   ],
   "source": [
    "\n",
    "movieList = utils.loadMovieList()\n",
    "n_m = len(movieList)\n",
    "\n",
    "my_ratings = np.zeros(n_m)\n",
    "my_ratings[0] = 2\n",
    "\n",
    "# Or suppose did not enjoy Silence of the Lambs (1991), you can set\n",
    "my_ratings[97] = 1\n",
    "\n",
    "# We have selected a few movies we liked / did not like and the ratings we\n",
    "# gave are as follows:\n",
    "my_ratings[6] = 3\n",
    "my_ratings[11]= 1\n",
    "my_ratings[53] = 1\n",
    "my_ratings[63] = 1\n",
    "my_ratings[65] = 1\n",
    "my_ratings[68] = 1\n",
    "my_ratings[182] = 1\n",
    "my_ratings[225] = 1\n",
    "my_ratings[354] = 1\n",
    "my_ratings[600] = 5\n",
    "\n",
    "\n",
    "predict(my_ratings,943)"
   ]
  },
  {
   "cell_type": "code",
   "execution_count": 95,
   "metadata": {},
   "outputs": [
    {
     "name": "stdout",
     "output_type": "stream",
     "text": [
      "Data loaded!\n",
      "Ratings added!\n",
      "Recommender system learning completed.\n",
      "(1665, 944)\n",
      "Top recommendations for you:\n",
      "----------------------------\n",
      "Predicting rating 5.0 for movie Santa with Muscles\n",
      "Predicting rating 5.0 for movie Great Day in Harlem A\n",
      "Predicting rating 5.0 for movie Saint of Fort Washington\n",
      "Predicting rating 5.0 for movie They Made Me a Criminal\n",
      "Predicting rating 5.0 for movie Prefontaine\n",
      "Predicting rating 5.0 for movie Star Kid\n",
      "Predicting rating 5.0 for movie Marlene Dietrich: Shadow and Light\n",
      "Predicting rating 5.0 for movie Someone Else's America\n",
      "Predicting rating 5.0 for movie Entertaining Angels: The Dorothy Day Story\n",
      "Predicting rating 4.7 for movie Star Wars\n",
      "Predicting rating 4.6 for movie Pather Panchali\n",
      "Predicting rating 4.6 for movie Shawshank Redemption\n",
      "Predicting rating 4.5 for movie Raiders of the Lost Ark\n",
      "Predicting rating 4.5 for movie Anna\n",
      "Predicting rating 4.5 for movie Maya Lin: A Strong Clear Vision\n",
      "Predicting rating 4.5 for movie Some Mother's Son\n",
      "Predicting rating 4.5 for movie Close Shave A\n",
      "Predicting rating 4.5 for movie Everest\n",
      "Predicting rating 4.5 for movie Wrong Trousers\n",
      "Predicting rating 4.5 for movie Schindler's List\n"
     ]
    }
   ],
   "source": [
    "movieList = utils.loadMovieList()\n",
    "n_m = len(movieList)\n",
    "\n",
    "my_ratings = np.zeros(n_m)\n",
    "my_ratings[0] = 4\n",
    "\n",
    "# Or suppose did not enjoy Silence of the Lambs (1991), you can set\n",
    "my_ratings[97] = 2\n",
    "\n",
    "# We have selected a few movies we liked / did not like and the ratings we\n",
    "# gave are as follows:\n",
    "my_ratings[6] = 3\n",
    "my_ratings[11]= 5\n",
    "my_ratings[53] = 4\n",
    "my_ratings[63] = 5\n",
    "my_ratings[65] = 3\n",
    "my_ratings[68] = 5\n",
    "my_ratings[182] = 4\n",
    "my_ratings[225] = 5\n",
    "my_ratings[354] = 5\n",
    "\n",
    "predict(my_ratings,943)"
   ]
  },
  {
   "cell_type": "code",
   "execution_count": null,
   "metadata": {},
   "outputs": [],
   "source": []
  }
 ],
 "metadata": {
  "kernelspec": {
   "display_name": "Python 3",
   "language": "python",
   "name": "python3"
  },
  "language_info": {
   "codemirror_mode": {
    "name": "ipython",
    "version": 3
   },
   "file_extension": ".py",
   "mimetype": "text/x-python",
   "name": "python",
   "nbconvert_exporter": "python",
   "pygments_lexer": "ipython3",
   "version": "3.7.3"
  }
 },
 "nbformat": 4,
 "nbformat_minor": 2
}
